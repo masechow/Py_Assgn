{
 "cells": [
  {
   "cell_type": "code",
   "execution_count": null,
   "id": "6fff8543-269a-49b9-9921-466a6df82e9b",
   "metadata": {},
   "outputs": [],
   "source": [
    "#Scrapping Ebay Using BeautifulSoup Version 1.0"
   ]
  },
  {
   "cell_type": "code",
   "execution_count": 7,
   "id": "868e4179-6acd-4601-831c-767885ce0b65",
   "metadata": {},
   "outputs": [],
   "source": [
    "import requests as r\n",
    "from bs4 import BeautifulSoup\n",
    "import pandas as pd\n",
    "import matplotlib.pyplot as plt"
   ]
  },
  {
   "cell_type": "code",
   "execution_count": 6,
   "id": "8066f85b-78d0-4c04-b9b8-6302c03b15e0",
   "metadata": {},
   "outputs": [],
   "source": [
    "#Creating a variable called request1 to get the HTML code of the website and another variable soup to convert to navigatable HTML \n",
    "request1 = r.get(\"https://www.ebay.com/b/Jordan-Sneakers-for-Men/15709/bn_96541848?*_trkparms=*pageci;|parentrq:*iid:0\")\n",
    "soup = BeautifulSoup (request1.text, 'html.parser')"
   ]
  },
  {
   "cell_type": "code",
   "execution_count": 2,
   "id": "bb02128a-c9c2-4bd4-8200-d3729cd403b1",
   "metadata": {},
   "outputs": [],
   "source": [
    "#Identifying Unique HTML attributes\n",
    "#Finding all the divs containing products information extracted from website page\n",
    "#Tags: h3 tag is for title while span is for class s-item__price clearfix where price is contained etc\n",
    "\n",
    "items_list = []      #Initialzing empty list that will store items in a dictionary format.\n",
    "items = soup.find_all('div', class_='s.item__wrapper clearfix')\n",
    "for item in items:\n",
    "    item_name = item.find('h3').text   #Gets the human readable text as a String \n",
    "    item_price = item.find('span', class_='s-item__price').text    #Gets text as a String\n",
    "    item_price = item_price.replace('$', \"\").replace('to','').strip()  #Removes the $ sign,to and spaces so results are in float format\n",
    "    item_shippingCost = item.find('span', class_='s-item__shipping s-item__logisticsCost').text    #Gets text as a string\n",
    "    item_shippingCost = item_shippingCost.replace('$', \"\").replace('shipping', '') #Remove the $ and shipping resulting so result are in float format\n",
    "    items_list.append({'Name':item_name, 'Price':item_price, 'Shipping_Cost':item_shippingCost}) #Structuring and adding list items in a dictionary format"
   ]
  },
  {
   "cell_type": "code",
   "execution_count": 3,
   "id": "2dac4162-29a6-4efe-95b7-932dd84387c6",
   "metadata": {},
   "outputs": [],
   "source": [
    "#Output of list in a table format\n",
    "df = pd.DataFrame(items_list)"
   ]
  },
  {
   "cell_type": "code",
   "execution_count": null,
   "id": "6c4f9c5f-3030-42c2-adca-894939f31718",
   "metadata": {},
   "outputs": [],
   "source": [
    "#Saving data parsed as a csv file in hard drive\n",
    "df.to_csv('scrape_Ebay.csv',index=False) #prevents creation new columns with indexes"
   ]
  },
  {
   "cell_type": "code",
   "execution_count": null,
   "id": "bd8268a8-2a34-427c-b6d0-c8e07925450b",
   "metadata": {},
   "outputs": [],
   "source": [
    "#Data Visualiation\n",
    "plt.xlabel(\"Shipping_Cost\")\n",
    "plt.ylabel(\"Price\")\n",
    "plt.title(\"Visualizing Shipping prices Against item price\")"
   ]
  },
  {
   "cell_type": "code",
   "execution_count": null,
   "id": "b88935ae-19e5-4732-bbfe-03c1a319afd8",
   "metadata": {},
   "outputs": [],
   "source": [
    "plt.scatter(df2.Shipping_Cost, df2.Price, marker\"*\", c='red', alpha = 1) #Output a line graph\n",
    "plt.show()"
   ]
  }
 ],
 "metadata": {
  "kernelspec": {
   "display_name": "Python 3 (ipykernel)",
   "language": "python",
   "name": "python3"
  },
  "language_info": {
   "codemirror_mode": {
    "name": "ipython",
    "version": 3
   },
   "file_extension": ".py",
   "mimetype": "text/x-python",
   "name": "python",
   "nbconvert_exporter": "python",
   "pygments_lexer": "ipython3",
   "version": "3.11.4"
  }
 },
 "nbformat": 4,
 "nbformat_minor": 5
}
